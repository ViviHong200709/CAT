{
 "cells": [
  {
   "cell_type": "code",
   "execution_count": 45,
   "metadata": {},
   "outputs": [
    {
     "name": "stderr",
     "output_type": "stream",
     "text": [
      "2022-10-31 12:10:33,935 - pyswarms.discrete.binary - INFO - Optimize for 2 iters with {'c1': 0.5, 'c2': 0.3, 'w': 0.9, 'k': 5, 'p': 2}\n",
      "pyswarms.discrete.binary: 100%|██████████|2/2, best_cost=0\n",
      "2022-10-31 12:10:33,944 - pyswarms.discrete.binary - INFO - Optimization finished | best cost: 0.0, best pos: [0 0 1 0 0 0 1 0 0 0]\n"
     ]
    },
    {
     "name": "stdout",
     "output_type": "stream",
     "text": [
      "[[0 0 1 0 0 0 1 0 0 0]\n",
      " [0 1 1 0 0 0 1 0 1 0]\n",
      " [0 0 1 1 1 0 0 0 1 0]\n",
      " [1 0 1 0 0 1 1 0 1 0]\n",
      " [1 1 1 1 1 0 0 1 0 1]\n",
      " [0 0 0 0 0 1 1 1 1 0]\n",
      " [1 1 0 0 0 0 1 0 0 0]\n",
      " [1 0 0 1 0 0 0 1 1 1]\n",
      " [0 0 1 1 0 1 1 0 0 0]\n",
      " [1 0 1 0 0 1 0 1 0 0]]\n",
      "[[0 1 0 1 1 0 1 0 1 1]\n",
      " [0 1 0 0 1 1 1 1 1 0]\n",
      " [0 1 0 1 1 0 1 1 1 1]\n",
      " [0 1 0 1 1 0 1 0 1 0]\n",
      " [0 1 0 0 1 1 1 1 1 0]\n",
      " [0 1 0 1 1 0 1 1 1 0]\n",
      " [0 1 0 1 1 1 1 0 0 0]\n",
      " [0 1 0 1 1 0 1 1 1 0]\n",
      " [0 1 0 1 1 0 1 1 1 0]\n",
      " [0 1 0 1 1 0 1 1 1 0]]\n"
     ]
    }
   ],
   "source": [
    "import numpy as np\n",
    "\n",
    "import pyswarms as ps\n",
    "options = {'c1': 0.5, 'c2': 0.3, 'w':0.9, 'k':5, 'p':2}\n",
    "\n",
    "# Call instance of PSO\n",
    "optimizer = ps.discrete.BinaryPSO(n_particles=10, dimensions=10, options=options)\n",
    "itrait=[]\n",
    "theta=[]\n",
    "def func(x):\n",
    "    print(x)\n",
    "    return x[0]\n",
    "cost, pos = optimizer.optimize(func, iters=2)"
   ]
  }
 ],
 "metadata": {
  "kernelspec": {
   "display_name": "Python 3.9.12 ('exp')",
   "language": "python",
   "name": "python3"
  },
  "language_info": {
   "codemirror_mode": {
    "name": "ipython",
    "version": 3
   },
   "file_extension": ".py",
   "mimetype": "text/x-python",
   "name": "python",
   "nbconvert_exporter": "python",
   "pygments_lexer": "ipython3",
   "version": "3.9.12"
  },
  "orig_nbformat": 4,
  "vscode": {
   "interpreter": {
    "hash": "97c92563dc9d5dcdecc6e642868b2bcb8dedc5d10549320d866390cf4828c32c"
   }
  }
 },
 "nbformat": 4,
 "nbformat_minor": 2
}
